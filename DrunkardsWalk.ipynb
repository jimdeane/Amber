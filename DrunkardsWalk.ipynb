{
 "cells": [
  {
   "cell_type": "code",
   "execution_count": null,
   "metadata": {},
   "outputs": [],
   "source": [
    "%matplotlib widget \n",
    "import numpy as np\n",
    "import matplotlib.pyplot as plt\n",
    "from matplotlib.animation import FuncAnimation\n",
    "\n",
    "class Board:\n",
    "    def __init__(self, size=10):\n",
    "        self.size = size\n",
    "        self.board = np.ones((size, size))\n",
    "        self.anim = 0\n",
    "        \n",
    "    def fill_square(self, x, y):\n",
    "        if 0 <= x < self.size and 0 <= y < self.size:\n",
    "            self.board[y, x] = 0\n",
    "\n",
    "    def init_board_display(self):\n",
    "        self.fig, self.ax = plt.subplots()\n",
    "        self.matshow = plt.matshow(self.board, cmap='gray', vmin=0, vmax=1, fignum=0)\n",
    "        plt.gca().set_xticks(np.arange(-.5, self.size, 1), minor=True)\n",
    "        plt.gca().set_yticks(np.arange(-.5, self.size, 1), minor=True)\n",
    "        plt.grid(which=\"minor\", color=\"black\", linestyle='-', linewidth=2)\n",
    "        plt.tick_params(which=\"minor\", size=0)\n",
    "        self.ax.set_xticks([])\n",
    "        self.ax.set_yticks([])\n",
    "        \n",
    "    def update_board_display(self, frame):\n",
    "        x, y = np.random.randint(0, self.size, size=2)\n",
    "        self.fill_square(x, y)\n",
    "        self.matshow.set_data(self.board)\n",
    "        return [self.matshow]\n",
    "\n",
    "    def animate_board(self, frames=5, interval=100):\n",
    "        self.init_board_display()\n",
    "        self.anim = FuncAnimation(self.fig, self.update_board_display, frames=frames, interval=interval, blit=True)\n",
    "        plt.show()\n",
    "board = dg.Board(size=10)\n",
    "board.animate_board(frames=50, interval=20)  # Adjust frames and interval as needed"
   ]
  }
 ],
 "metadata": {
  "kernelspec": {
   "display_name": "base",
   "language": "python",
   "name": "python3"
  },
  "language_info": {
   "codemirror_mode": {
    "name": "ipython",
    "version": 3
   },
   "file_extension": ".py",
   "mimetype": "text/x-python",
   "name": "python",
   "nbconvert_exporter": "python",
   "pygments_lexer": "ipython3",
   "version": "3.11.7"
  }
 },
 "nbformat": 4,
 "nbformat_minor": 2
}
